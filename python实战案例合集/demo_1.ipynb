{
 "cells": [
  {
   "cell_type": "code",
   "execution_count": null,
   "id": "initial_id",
   "metadata": {
    "collapsed": true
   },
   "outputs": [],
   "source": [
    "# encoding=utf-8\n",
    "# 1. 一行代码交换a, b\n",
    "a = 3; b = 5\n",
    "a, b = b, a\n",
    "print(a, b)\n",
    "\n",
    "# 2. 一行代码反转列表\n",
    "print([1, 2, 3][::-1])\n",
    "\n",
    "# 3. 一行代码合并两个字典\n",
    "print({**{\"a\": 1, \"b\": 2}, **{\"c\": 3}})\n",
    "\n",
    "# 4. 一行代码列表去重\n",
    "print(set([1, 2, 2, 3, 3, 3]))\n",
    "\n",
    "# 5. 一行代码求多个列表中的最大值\n",
    "print(max(max([[1, 2, 3], [5, 1], [4]], key=lambda v: max(v))))\n",
    "\n",
    "# 6. 一行代码生成逆序序列\n",
    "print(list(range(10, 0, -1)))\n",
    "\n",
    "# 7. 字符串转字节\n",
    "s = \"apple\"\n",
    "print(bytes(s.encode(\"utf-8\")))\n",
    "\n",
    "# 8. 查看十进制整数对应的ASCII字符\n",
    "print(chr(65))\n",
    "\n",
    "# 9. 查看ASCII字符对应的十进制数\n",
    "print(ord(\"A\"))\n",
    "\n",
    "# 10. 取商和余数\n",
    "print(divmod(10, 3))\n",
    "\n",
    "# 11. 枚举对象\n",
    "s = [\"a\", \"b\", \"c\"]\n",
    "for i, v in enumerate(s, 1):\n",
    "    print(i, v)\n",
    "\n",
    "# 12. 计算表达式\n",
    "s = \"1 + 3 + 5\"\n",
    "print(eval(s))\n",
    "\n",
    "# 13. 过滤器\n",
    "# 在函数中设定过滤条件，迭代元素，保留返回值为True的元素\n",
    "filter_test = filter(lambda x: x > 5, [11, 2, 13, 4, 5])\n",
    "print(list(filter_test))\n",
    "\n",
    "# 14. 创建迭代器类型\n",
    "# 使⽤ iter(obj, sentinel), 返回⼀个可迭代对象, sentinel可省略(⼀旦迭代到此元素，⽴即终⽌)\n",
    "lst = [1, 3, 5]\n",
    "for i in iter(lst):\n",
    "    print(i)\n"
   ]
  },
  {
   "metadata": {
    "ExecuteTime": {
     "end_time": "2024-05-30T13:32:58.907153Z",
     "start_time": "2024-05-30T13:32:58.900566Z"
    }
   },
   "cell_type": "code",
   "source": [
    "# 15. 反向迭代器\n",
    "rev = reversed([1, 2, 3])\n",
    "print(rev)\n",
    "\n",
    "for i in rev:\n",
    "    print(i)"
   ],
   "id": "1f2ec806a1e6a10f",
   "outputs": [
    {
     "name": "stdout",
     "output_type": "stream",
     "text": [
      "<list_reverseiterator object at 0x00000112630A4A60>\n",
      "3\n",
      "2\n",
      "1\n"
     ]
    }
   ],
   "execution_count": 5
  },
  {
   "metadata": {
    "ExecuteTime": {
     "end_time": "2024-05-30T13:43:17.203661Z",
     "start_time": "2024-05-30T13:43:17.180727Z"
    }
   },
   "cell_type": "code",
   "source": [
    "# 四舍五入\n",
    "round(10.022222, 3)"
   ],
   "id": "16ceca398447ba7d",
   "outputs": [
    {
     "data": {
      "text/plain": [
       "10.022"
      ]
     },
     "execution_count": 6,
     "metadata": {},
     "output_type": "execute_result"
    }
   ],
   "execution_count": 6
  },
  {
   "metadata": {
    "ExecuteTime": {
     "end_time": "2024-05-30T13:43:30.042319Z",
     "start_time": "2024-05-30T13:43:30.034495Z"
    }
   },
   "cell_type": "code",
   "source": "round(10.05, 1)",
   "id": "e4f1e772cf9af1e3",
   "outputs": [
    {
     "data": {
      "text/plain": [
       "10.1"
      ]
     },
     "execution_count": 7,
     "metadata": {},
     "output_type": "execute_result"
    }
   ],
   "execution_count": 7
  },
  {
   "metadata": {
    "ExecuteTime": {
     "end_time": "2024-05-30T13:43:52.693177Z",
     "start_time": "2024-05-30T13:43:52.676241Z"
    }
   },
   "cell_type": "code",
   "source": [
    "# 转为集合\n",
    "a = [1, 2, 3, 4, 1]\n",
    "set(a)"
   ],
   "id": "b0a00c12bd3107e0",
   "outputs": [
    {
     "data": {
      "text/plain": [
       "{1, 2, 3, 4}"
      ]
     },
     "execution_count": 8,
     "metadata": {},
     "output_type": "execute_result"
    }
   ],
   "execution_count": 8
  },
  {
   "metadata": {
    "ExecuteTime": {
     "end_time": "2024-05-31T00:26:25.479259Z",
     "start_time": "2024-05-31T00:26:25.465968Z"
    }
   },
   "cell_type": "code",
   "source": [
    "# 转为切片对象\n",
    "a = [1, 4, 2, 3, 1]\n",
    "my_slice_a = slice(0, 5, 2)\n",
    "print(a[my_slice_a])"
   ],
   "id": "e8a9f7a693fb03d",
   "outputs": [
    {
     "name": "stdout",
     "output_type": "stream",
     "text": [
      "[1, 2, 1]\n"
     ]
    }
   ],
   "execution_count": 11
  },
  {
   "metadata": {
    "ExecuteTime": {
     "end_time": "2024-05-31T00:27:06.076376Z",
     "start_time": "2024-05-31T00:27:06.056394Z"
    }
   },
   "cell_type": "code",
   "source": [
    "# 排序函数\n",
    "a = [1, 4, 2, 3, 1]\n",
    "sorted(a, reverse=True)  # 从大到小"
   ],
   "id": "3e4b89f027cd5792",
   "outputs": [
    {
     "data": {
      "text/plain": [
       "[4, 3, 2, 1, 1]"
      ]
     },
     "execution_count": 13,
     "metadata": {},
     "output_type": "execute_result"
    }
   ],
   "execution_count": 13
  },
  {
   "metadata": {
    "ExecuteTime": {
     "end_time": "2024-05-31T00:28:17.416920Z",
     "start_time": "2024-05-31T00:28:17.406945Z"
    }
   },
   "cell_type": "code",
   "source": [
    "# 求和函数\n",
    "a = [1, 4, 2, 3, 1]\n",
    "sum(a)"
   ],
   "id": "4cafa7a47e9ca963",
   "outputs": [
    {
     "data": {
      "text/plain": [
       "11"
      ]
     },
     "execution_count": 14,
     "metadata": {},
     "output_type": "execute_result"
    }
   ],
   "execution_count": 14
  },
  {
   "metadata": {
    "ExecuteTime": {
     "end_time": "2024-05-31T00:28:34.986857Z",
     "start_time": "2024-05-31T00:28:34.970994Z"
    }
   },
   "cell_type": "code",
   "source": "sum(a, 10)  # 求和的初始值为10",
   "id": "ac1e14c244c38516",
   "outputs": [
    {
     "data": {
      "text/plain": [
       "21"
      ]
     },
     "execution_count": 15,
     "metadata": {},
     "output_type": "execute_result"
    }
   ],
   "execution_count": 15
  },
  {
   "metadata": {
    "ExecuteTime": {
     "end_time": "2024-05-31T00:35:01.992316Z",
     "start_time": "2024-05-31T00:35:01.976782Z"
    }
   },
   "cell_type": "code",
   "source": [
    "# 聚合迭代器\n",
    "x = [3, 2, 1]\n",
    "y = [4, 5, 6]\n",
    "list(zip(x, y))"
   ],
   "id": "c507fc4c0ed4c59c",
   "outputs": [
    {
     "data": {
      "text/plain": [
       "[(3, 4), (2, 5), (1, 6)]"
      ]
     },
     "execution_count": 16,
     "metadata": {},
     "output_type": "execute_result"
    }
   ],
   "execution_count": 16
  },
  {
   "metadata": {
    "ExecuteTime": {
     "end_time": "2024-05-31T00:38:13.830354Z",
     "start_time": "2024-05-31T00:38:13.810722Z"
    }
   },
   "cell_type": "code",
   "source": [
    "a = range(5)\n",
    "b = list('abcde')\n",
    "b\n",
    "list(zip(a, b))"
   ],
   "id": "ecc6a8ae9342bad6",
   "outputs": [
    {
     "data": {
      "text/plain": [
       "[(0, 'a'), (1, 'b'), (2, 'c'), (3, 'd'), (4, 'e')]"
      ]
     },
     "execution_count": 21,
     "metadata": {},
     "output_type": "execute_result"
    }
   ],
   "execution_count": 21
  },
  {
   "metadata": {
    "ExecuteTime": {
     "end_time": "2024-05-31T00:36:13.758520Z",
     "start_time": "2024-05-31T00:36:13.749544Z"
    }
   },
   "cell_type": "code",
   "source": "[str(y) + str(x) for x, y in zip(a, b)]",
   "id": "1c4e5317cd1f6bf8",
   "outputs": [
    {
     "data": {
      "text/plain": [
       "['a0', 'b1', 'c2', 'd3', 'e4']"
      ]
     },
     "execution_count": 18,
     "metadata": {},
     "output_type": "execute_result"
    }
   ],
   "execution_count": 18
  },
  {
   "metadata": {
    "ExecuteTime": {
     "end_time": "2024-05-31T00:48:21.919724Z",
     "start_time": "2024-05-31T00:48:21.901741Z"
    }
   },
   "cell_type": "code",
   "source": [
    "# 链式比较\n",
    "i = 3\n",
    "print(1 < i < 3)\n",
    "print(1 < i <= 3)"
   ],
   "id": "11e3aee0f19a835a",
   "outputs": [
    {
     "name": "stdout",
     "output_type": "stream",
     "text": [
      "False\n",
      "True\n"
     ]
    }
   ],
   "execution_count": 24
  },
  {
   "metadata": {
    "ExecuteTime": {
     "end_time": "2024-05-31T00:55:36.344012Z",
     "start_time": "2024-05-31T00:55:36.331012Z"
    }
   },
   "cell_type": "code",
   "source": [
    "# 不用else和if实现计算器\n",
    "from operator import *\n",
    "\n",
    "def calculator(a, b, op):\n",
    "    return {\n",
    "        \"+\": add,\n",
    "        \"-\": sub,\n",
    "        \"/\": truediv,\n",
    "        \"**\": pow\n",
    "    }[op](a, b)\n",
    "\n",
    "# calculator(1, 2, \"+\")\n",
    "calculator(3, 4, \"**\")"
   ],
   "id": "4ca96ae465ffbade",
   "outputs": [
    {
     "data": {
      "text/plain": [
       "3"
      ]
     },
     "execution_count": 28,
     "metadata": {},
     "output_type": "execute_result"
    }
   ],
   "execution_count": 28
  },
  {
   "metadata": {
    "ExecuteTime": {
     "end_time": "2024-05-31T00:57:45.549568Z",
     "start_time": "2024-05-31T00:57:45.535604Z"
    }
   },
   "cell_type": "code",
   "source": "# 链式操作",
   "id": "ad0bea1c1454d3d0",
   "outputs": [],
   "execution_count": 29
  },
  {
   "metadata": {
    "ExecuteTime": {
     "end_time": "2024-05-31T00:58:38.500997Z",
     "start_time": "2024-05-31T00:58:38.491179Z"
    }
   },
   "cell_type": "code",
   "source": [
    "from operator import (add, sub)\n",
    "\n",
    "def add_or_sub(a, b, op):\n",
    "    return (add if op == \"+\" else sub)(a, b)\n",
    "\n",
    "add_or_sub(1, 2, \"-\")"
   ],
   "id": "59a943af72986e1b",
   "outputs": [
    {
     "data": {
      "text/plain": [
       "-1"
      ]
     },
     "execution_count": 30,
     "metadata": {},
     "output_type": "execute_result"
    }
   ],
   "execution_count": 30
  },
  {
   "metadata": {},
   "cell_type": "code",
   "outputs": [],
   "execution_count": null,
   "source": "",
   "id": "d907314131b971c4"
  }
 ],
 "metadata": {
  "kernelspec": {
   "display_name": "Python 3",
   "language": "python",
   "name": "python3"
  },
  "language_info": {
   "codemirror_mode": {
    "name": "ipython",
    "version": 2
   },
   "file_extension": ".py",
   "mimetype": "text/x-python",
   "name": "python",
   "nbconvert_exporter": "python",
   "pygments_lexer": "ipython2",
   "version": "2.7.6"
  }
 },
 "nbformat": 4,
 "nbformat_minor": 5
}
